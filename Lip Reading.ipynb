{
  "cells": [
    {
      "cell_type": "markdown",
      "metadata": {
        "id": "pmR7uHl7kj4v"
      },
      "source": [
        "# 0. Install and Import Dependencies"
      ]
    },
    {
      "cell_type": "code",
      "execution_count": null,
      "metadata": {
        "id": "1OBqoUgykSNa"
      },
      "outputs": [],
      "source": [
        "! pip install opencv-python matplotlib tensorflow imageio gdown "
      ]
    },
    {
      "cell_type": "code",
      "execution_count": 1,
      "metadata": {
        "id": "po8LSKn2k9P0"
      },
      "outputs": [],
      "source": [
        "import os\n",
        "import cv2\n",
        "import tensorflow as tf\n",
        "import numpy as np\n",
        "from typing import List\n",
        "from matplotlib import pyplot as plt\n",
        "import imageio"
      ]
    },
    {
      "cell_type": "code",
      "execution_count": 2,
      "metadata": {
        "id": "JKeeWBSLlPLQ"
      },
      "outputs": [],
      "source": [
        "physical_devices = tf.config.list_physical_devices('GPU')\n",
        "try:\n",
        "  tf.config.experimental.set_memory_growth(physical_devices[0], True)\n",
        "except:\n",
        "  pass"
      ]
    },
    {
      "cell_type": "markdown",
      "metadata": {
        "id": "bcDTswCrmwR9"
      },
      "source": [
        "# 1. Data Loading Functions"
      ]
    },
    {
      "cell_type": "code",
      "execution_count": null,
      "metadata": {
        "id": "Ni9ot0_YmzCm"
      },
      "outputs": [],
      "source": [
        "import gdown\n",
        "\n",
        "url = 'https://drive.google.com/uc?id=1YlvpDLix3S-U8fd-gqRwPcWXAXm8JwjL'\n",
        "output = 'data.zip'\n",
        "gdown.download(url, output, quiet=False)\n",
        "gdown.extractall('data.zip')"
      ]
    },
    {
      "cell_type": "code",
      "execution_count": 4,
      "metadata": {
        "id": "mLxeyZq4rFGe"
      },
      "outputs": [],
      "source": [
        "def load_video(path:str) -> List[float]: \n",
        "\n",
        "    cap = cv2.VideoCapture(path)\n",
        "    frames = []\n",
        "    for _ in range(int(cap.get(cv2.CAP_PROP_FRAME_COUNT))): \n",
        "        ret, frame = cap.read()\n",
        "        frame = tf.image.rgb_to_grayscale(frame)\n",
        "        frames.append(frame[190:236,80:220,:])\n",
        "    cap.release()\n",
        "    \n",
        "    mean = tf.math.reduce_mean(frames)\n",
        "    std = tf.math.reduce_std(tf.cast(frames, tf.float32))\n",
        "    return tf.cast((frames - mean), tf.float32) / std"
      ]
    },
    {
      "cell_type": "code",
      "execution_count": 5,
      "metadata": {
        "id": "g24o7UTvsGsG"
      },
      "outputs": [],
      "source": [
        "vocab = [x for x in \"abcdefghijklmnopqrstuvwxyz'?!123456789 \"]"
      ]
    },
    {
      "cell_type": "code",
      "execution_count": 6,
      "metadata": {
        "colab": {
          "base_uri": "https://localhost:8080/"
        },
        "id": "f8rNUGH7sgDd",
        "outputId": "400d1755-ad2a-4549-d4ad-015111572b7c"
      },
      "outputs": [
        {
          "name": "stdout",
          "output_type": "stream",
          "text": [
            "The vocabulary is: ['', 'a', 'b', 'c', 'd', 'e', 'f', 'g', 'h', 'i', 'j', 'k', 'l', 'm', 'n', 'o', 'p', 'q', 'r', 's', 't', 'u', 'v', 'w', 'x', 'y', 'z', \"'\", '?', '!', '1', '2', '3', '4', '5', '6', '7', '8', '9', ' '] (size =40)\n"
          ]
        }
      ],
      "source": [
        "char_to_num = tf.keras.layers.StringLookup(vocabulary=vocab, oov_token=\"\")\n",
        "num_to_char = tf.keras.layers.StringLookup(vocabulary=char_to_num.get_vocabulary(), oov_token=\"\", invert=True)\n",
        "\n",
        "print(f\"The vocabulary is: {char_to_num.get_vocabulary()} \"\n",
        "      f\"(size ={char_to_num.vocabulary_size()})\")"
      ]
    },
    {
      "cell_type": "code",
      "execution_count": 7,
      "metadata": {
        "id": "mLYrkqXVvy6Z"
      },
      "outputs": [],
      "source": [
        "def load_alignments(path:str) -> List[str]: \n",
        "    with open(path, 'r') as f: \n",
        "        lines = f.readlines() \n",
        "    tokens = []\n",
        "    for line in lines:\n",
        "        line = line.split()\n",
        "        if line[2] != 'sil': \n",
        "            tokens = [*tokens,' ',line[2]]\n",
        "    return char_to_num(tf.reshape(tf.strings.unicode_split(tokens, input_encoding='UTF-8'), (-1)))[1:]"
      ]
    },
    {
      "cell_type": "code",
      "execution_count": 15,
      "metadata": {
        "id": "BDi0uQ1Xx3pA"
      },
      "outputs": [],
      "source": [
        "def load_data(path: str): \n",
        "    path = bytes.decode(path.numpy())\n",
        "    file_name = path.split('\\\\')[-1].split('.')[0]\n",
        "    video_path = f'.\\\\data\\\\s1\\\\{file_name}.mpg'\n",
        "    alignment_path = f'.\\\\data\\\\alignments\\\\s1\\\\{file_name}.align'\n",
        "    frames = load_video(video_path) \n",
        "    alignments = load_alignments(alignment_path)\n",
        "    \n",
        "    return frames, alignments"
      ]
    },
    {
      "cell_type": "code",
      "execution_count": 17,
      "metadata": {
        "id": "qZwWohbly34x"
      },
      "outputs": [],
      "source": [
        "test_path = '.\\\\data\\\\s1\\\\bbal6n.mpg'\n",
        "\n",
        "frames, alignments = load_data(tf.convert_to_tensor(test_path))"
      ]
    },
    {
      "cell_type": "code",
      "execution_count": 18,
      "metadata": {
        "colab": {
          "base_uri": "https://localhost:8080/",
          "height": 244
        },
        "id": "cyruPQG62LiQ",
        "outputId": "c963431f-2027-489a-a4ba-7933d243a215"
      },
      "outputs": [
        {
          "data": {
            "text/plain": [
              "<matplotlib.image.AxesImage at 0x218c34f5130>"
            ]
          },
          "execution_count": 18,
          "metadata": {},
          "output_type": "execute_result"
        },
        {
          "data": {
            "image/png": "[encoded data removed]",
            "text/plain": [
              "<Figure size 640x480 with 1 Axes>"
            ]
          },
          "metadata": {},
          "output_type": "display_data"
        }
      ],
      "source": [
        "plt.imshow(frames[35])"
      ]
    },
    {
      "cell_type": "code",
      "execution_count": 19,
      "metadata": {
        "colab": {
          "base_uri": "https://localhost:8080/"
        },
        "id": "4UANvoUluRjy",
        "outputId": "2456df2b-3d60-44e1-f3eb-21d3d9faad21"
      },
      "outputs": [
        {
          "data": {
            "text/plain": [
              "<tf.Tensor: shape=(), dtype=string, numpy=b'bin blue at l six now'>"
            ]
          },
          "execution_count": 19,
          "metadata": {},
          "output_type": "execute_result"
        }
      ],
      "source": [
        "tf.strings.reduce_join([bytes.decode(x) for x in num_to_char(alignments.numpy()).numpy()])"
      ]
    },
    {
      "cell_type": "code",
      "execution_count": 20,
      "metadata": {
        "id": "txydXiJ70fh4"
      },
      "outputs": [],
      "source": [
        "def mappable_function(path:str) ->List[str]:\n",
        "    result = tf.py_function(load_data, [path], (tf.float32, tf.int64))\n",
        "    return result"
      ]
    },
    {
      "cell_type": "markdown",
      "metadata": {
        "id": "pfx-ZRGw2cCJ"
      },
      "source": [
        "# 2. Data Pipeline"
      ]
    },
    {
      "cell_type": "code",
      "execution_count": 21,
      "metadata": {
        "id": "m38afOPq2ePh"
      },
      "outputs": [],
      "source": [
        "data = tf.data.Dataset.list_files('./data/s1/*.mpg')\n",
        "data = data.shuffle(500, reshuffle_each_iteration=False)\n",
        "data = data.map(mappable_function)\n",
        "data = data.padded_batch(2, padded_shapes=([75,None,None,None],[40]))\n",
        "data = data.prefetch(tf.data.AUTOTUNE)\n",
        "# Added for split \n",
        "train = data.take(450)\n",
        "test = data.skip(450)"
      ]
    },
    {
      "cell_type": "code",
      "execution_count": 22,
      "metadata": {
        "id": "0THjczTFskPG"
      },
      "outputs": [],
      "source": [
        "frames, alignments = data.as_numpy_iterator().next()"
      ]
    },
    {
      "cell_type": "code",
      "execution_count": 23,
      "metadata": {
        "id": "V1JXvDwC11WN"
      },
      "outputs": [
        {
          "data": {
            "text/plain": [
              "array([[[[[1.3513659 ],\n",
              "          [1.3513659 ],\n",
              "          [1.274145  ],\n",
              "          ...,\n",
              "          [0.9266509 ],\n",
              "          [0.07722091],\n",
              "          [9.34373   ]],\n",
              "\n",
              "         [[1.3513659 ],\n",
              "          [1.3513659 ],\n",
              "          [1.274145  ],\n",
              "          ...,\n",
              "          [0.6177673 ],\n",
              "          [9.3051195 ],\n",
              "          [9.575393  ]],\n",
              "\n",
              "         [[1.3513659 ],\n",
              "          [1.3513659 ],\n",
              "          [1.3513659 ],\n",
              "          ...,\n",
              "          [9.498172  ],\n",
              "          [9.614003  ],\n",
              "          [9.729835  ]],\n",
              "\n",
              "         ...,\n",
              "\n",
              "         [[1.0038718 ],\n",
              "          [0.96526134],\n",
              "          [0.96526134],\n",
              "          ...,\n",
              "          [9.807055  ],\n",
              "          [9.845666  ],\n",
              "          [9.845666  ]],\n",
              "\n",
              "         [[0.96526134],\n",
              "          [0.96526134],\n",
              "          [0.96526134],\n",
              "          ...,\n",
              "          [9.807055  ],\n",
              "          [9.807055  ],\n",
              "          [9.807055  ]],\n",
              "\n",
              "         [[0.96526134],\n",
              "          [0.96526134],\n",
              "          [0.96526134],\n",
              "          ...,\n",
              "          [9.807055  ],\n",
              "          [9.807055  ],\n",
              "          [9.807055  ]]],\n",
              "\n",
              "\n",
              "        [[[1.3899764 ],\n",
              "          [1.3899764 ],\n",
              "          [1.3127555 ],\n",
              "          ...,\n",
              "          [0.6949882 ],\n",
              "          [9.845666  ],\n",
              "          [9.266509  ]],\n",
              "\n",
              "         [[1.3899764 ],\n",
              "          [1.3899764 ],\n",
              "          [1.3127555 ],\n",
              "          ...,\n",
              "          [0.30888364],\n",
              "          [9.266509  ],\n",
              "          [9.266509  ]],\n",
              "\n",
              "         [[1.3513659 ],\n",
              "          [1.3513659 ],\n",
              "          [1.3513659 ],\n",
              "          ...,\n",
              "          [9.112067  ],\n",
              "          [9.459561  ],\n",
              "          [9.729835  ]],\n",
              "\n",
              "         ...,\n",
              "\n",
              "         [[1.0038718 ],\n",
              "          [0.96526134],\n",
              "          [0.96526134],\n",
              "          ...,\n",
              "          [9.845666  ],\n",
              "          [9.845666  ],\n",
              "          [9.845666  ]],\n",
              "\n",
              "         [[0.96526134],\n",
              "          [0.96526134],\n",
              "          [0.96526134],\n",
              "          ...,\n",
              "          [9.807055  ],\n",
              "          [9.768445  ],\n",
              "          [9.768445  ]],\n",
              "\n",
              "         [[0.96526134],\n",
              "          [0.96526134],\n",
              "          [0.96526134],\n",
              "          ...,\n",
              "          [9.807055  ],\n",
              "          [9.768445  ],\n",
              "          [9.768445  ]]],\n",
              "\n",
              "\n",
              "        [[[1.3899764 ],\n",
              "          [1.3899764 ],\n",
              "          [1.3513659 ],\n",
              "          ...,\n",
              "          [0.8880404 ],\n",
              "          [0.        ],\n",
              "          [9.3051195 ]],\n",
              "\n",
              "         [[1.3899764 ],\n",
              "          [1.3899764 ],\n",
              "          [1.3513659 ],\n",
              "          ...,\n",
              "          [0.30888364],\n",
              "          [9.38234   ],\n",
              "          [9.34373   ]],\n",
              "\n",
              "         [[1.3127555 ],\n",
              "          [1.3127555 ],\n",
              "          [1.3513659 ],\n",
              "          ...,\n",
              "          [9.034846  ],\n",
              "          [9.459561  ],\n",
              "          [9.691224  ]],\n",
              "\n",
              "         ...,\n",
              "\n",
              "         [[1.0038718 ],\n",
              "          [0.96526134],\n",
              "          [0.96526134],\n",
              "          ...,\n",
              "          [0.03861045],\n",
              "          [0.        ],\n",
              "          [0.        ]],\n",
              "\n",
              "         [[0.96526134],\n",
              "          [0.96526134],\n",
              "          [0.96526134],\n",
              "          ...,\n",
              "          [0.        ],\n",
              "          [9.807055  ],\n",
              "          [9.807055  ]],\n",
              "\n",
              "         [[0.96526134],\n",
              "          [0.96526134],\n",
              "          [0.96526134],\n",
              "          ...,\n",
              "          [0.        ],\n",
              "          [9.807055  ],\n",
              "          [9.807055  ]]],\n",
              "\n",
              "\n",
              "        ...,\n",
              "\n",
              "\n",
              "        [[[1.4285868 ],\n",
              "          [1.4285868 ],\n",
              "          [1.3899764 ],\n",
              "          ...,\n",
              "          [0.6177673 ],\n",
              "          [0.        ],\n",
              "          [9.3051195 ]],\n",
              "\n",
              "         [[1.3513659 ],\n",
              "          [1.3513659 ],\n",
              "          [1.3127555 ],\n",
              "          ...,\n",
              "          [0.19305228],\n",
              "          [9.073457  ],\n",
              "          [9.34373   ]],\n",
              "\n",
              "         [[1.3513659 ],\n",
              "          [1.3513659 ],\n",
              "          [1.3513659 ],\n",
              "          ...,\n",
              "          [9.459561  ],\n",
              "          [9.575393  ],\n",
              "          [9.652614  ]],\n",
              "\n",
              "         ...,\n",
              "\n",
              "         [[0.9266509 ],\n",
              "          [0.9266509 ],\n",
              "          [0.8880404 ],\n",
              "          ...,\n",
              "          [0.03861045],\n",
              "          [0.        ],\n",
              "          [9.845666  ]],\n",
              "\n",
              "         [[0.9266509 ],\n",
              "          [0.9266509 ],\n",
              "          [0.8880404 ],\n",
              "          ...,\n",
              "          [0.03861045],\n",
              "          [0.03861045],\n",
              "          [0.        ]],\n",
              "\n",
              "         [[0.9266509 ],\n",
              "          [0.9266509 ],\n",
              "          [0.8880404 ],\n",
              "          ...,\n",
              "          [0.03861045],\n",
              "          [0.        ],\n",
              "          [9.845666  ]]],\n",
              "\n",
              "\n",
              "        [[[1.4285868 ],\n",
              "          [1.4285868 ],\n",
              "          [1.3899764 ],\n",
              "          ...,\n",
              "          [0.65637773],\n",
              "          [0.03861045],\n",
              "          [9.3051195 ]],\n",
              "\n",
              "         [[1.3513659 ],\n",
              "          [1.3513659 ],\n",
              "          [1.3127555 ],\n",
              "          ...,\n",
              "          [0.03861045],\n",
              "          [9.266509  ],\n",
              "          [9.38234   ]],\n",
              "\n",
              "         [[1.3513659 ],\n",
              "          [1.3513659 ],\n",
              "          [1.3513659 ],\n",
              "          ...,\n",
              "          [9.459561  ],\n",
              "          [9.614003  ],\n",
              "          [9.768445  ]],\n",
              "\n",
              "         ...,\n",
              "\n",
              "         [[0.9266509 ],\n",
              "          [0.9266509 ],\n",
              "          [0.8880404 ],\n",
              "          ...,\n",
              "          [0.03861045],\n",
              "          [9.845666  ],\n",
              "          [9.807055  ]],\n",
              "\n",
              "         [[0.9266509 ],\n",
              "          [0.9266509 ],\n",
              "          [0.8880404 ],\n",
              "          ...,\n",
              "          [0.        ],\n",
              "          [0.        ],\n",
              "          [9.845666  ]],\n",
              "\n",
              "         [[0.9266509 ],\n",
              "          [0.9266509 ],\n",
              "          [0.8880404 ],\n",
              "          ...,\n",
              "          [0.        ],\n",
              "          [9.845666  ],\n",
              "          [9.807055  ]]],\n",
              "\n",
              "\n",
              "        [[[1.4671973 ],\n",
              "          [1.4671973 ],\n",
              "          [1.4285868 ],\n",
              "          ...,\n",
              "          [0.6949882 ],\n",
              "          [0.03861045],\n",
              "          [9.189288  ]],\n",
              "\n",
              "         [[1.4285868 ],\n",
              "          [1.4285868 ],\n",
              "          [1.3513659 ],\n",
              "          ...,\n",
              "          [0.07722091],\n",
              "          [9.112067  ],\n",
              "          [9.34373   ]],\n",
              "\n",
              "         [[1.3513659 ],\n",
              "          [1.3513659 ],\n",
              "          [1.3513659 ],\n",
              "          ...,\n",
              "          [9.536782  ],\n",
              "          [9.652614  ],\n",
              "          [9.691224  ]],\n",
              "\n",
              "         ...,\n",
              "\n",
              "         [[0.9266509 ],\n",
              "          [0.9266509 ],\n",
              "          [0.8880404 ],\n",
              "          ...,\n",
              "          [0.03861045],\n",
              "          [9.845666  ],\n",
              "          [9.807055  ]],\n",
              "\n",
              "         [[0.9266509 ],\n",
              "          [0.9266509 ],\n",
              "          [0.8880404 ],\n",
              "          ...,\n",
              "          [0.        ],\n",
              "          [0.        ],\n",
              "          [9.845666  ]],\n",
              "\n",
              "         [[0.9266509 ],\n",
              "          [0.9266509 ],\n",
              "          [0.8880404 ],\n",
              "          ...,\n",
              "          [0.        ],\n",
              "          [9.845666  ],\n",
              "          [9.807055  ]]]],\n",
              "\n",
              "\n",
              "\n",
              "       [[[[1.4253203 ],\n",
              "          [1.4253203 ],\n",
              "          [1.4253203 ],\n",
              "          ...,\n",
              "          [0.03654667],\n",
              "          [0.2558267 ],\n",
              "          [0.21928003]],\n",
              "\n",
              "         [[1.4253203 ],\n",
              "          [1.4253203 ],\n",
              "          [1.4253203 ],\n",
              "          ...,\n",
              "          [0.07309335],\n",
              "          [0.2558267 ],\n",
              "          [0.21928003]],\n",
              "\n",
              "         [[1.3522269 ],\n",
              "          [1.3522269 ],\n",
              "          [1.3522269 ],\n",
              "          ...,\n",
              "          [0.21928003],\n",
              "          [0.2923734 ],\n",
              "          [0.2923734 ]],\n",
              "\n",
              "         ...,\n",
              "\n",
              "         [[0.98676014],\n",
              "          [0.98676014],\n",
              "          [0.9502135 ],\n",
              "          ...,\n",
              "          [0.        ],\n",
              "          [0.        ],\n",
              "          [0.        ]],\n",
              "\n",
              "         [[0.98676014],\n",
              "          [0.98676014],\n",
              "          [0.9502135 ],\n",
              "          ...,\n",
              "          [0.        ],\n",
              "          [9.319402  ],\n",
              "          [9.319402  ]],\n",
              "\n",
              "         [[0.98676014],\n",
              "          [0.98676014],\n",
              "          [0.9502135 ],\n",
              "          ...,\n",
              "          [0.        ],\n",
              "          [9.319402  ],\n",
              "          [9.319402  ]]],\n",
              "\n",
              "\n",
              "        [[[1.3887736 ],\n",
              "          [1.3887736 ],\n",
              "          [1.3887736 ],\n",
              "          ...,\n",
              "          [0.        ],\n",
              "          [0.2558267 ],\n",
              "          [0.2923734 ]],\n",
              "\n",
              "         [[1.3887736 ],\n",
              "          [1.3887736 ],\n",
              "          [1.3887736 ],\n",
              "          ...,\n",
              "          [9.282855  ],\n",
              "          [0.2558267 ],\n",
              "          [0.2923734 ]],\n",
              "\n",
              "         [[1.3156801 ],\n",
              "          [1.3156801 ],\n",
              "          [1.3522269 ],\n",
              "          ...,\n",
              "          [0.21928003],\n",
              "          [0.2558267 ],\n",
              "          [0.2558267 ]],\n",
              "\n",
              "         ...,\n",
              "\n",
              "         [[0.98676014],\n",
              "          [0.98676014],\n",
              "          [0.9502135 ],\n",
              "          ...,\n",
              "          [9.319402  ],\n",
              "          [9.282855  ],\n",
              "          [9.282855  ]],\n",
              "\n",
              "         [[0.98676014],\n",
              "          [0.98676014],\n",
              "          [0.9502135 ],\n",
              "          ...,\n",
              "          [9.282855  ],\n",
              "          [9.282855  ],\n",
              "          [9.282855  ]],\n",
              "\n",
              "         [[0.98676014],\n",
              "          [0.98676014],\n",
              "          [0.9502135 ],\n",
              "          ...,\n",
              "          [9.282855  ],\n",
              "          [9.282855  ],\n",
              "          [9.282855  ]]],\n",
              "\n",
              "\n",
              "        [[[1.4253203 ],\n",
              "          [1.4253203 ],\n",
              "          [1.3887736 ],\n",
              "          ...,\n",
              "          [0.        ],\n",
              "          [0.2558267 ],\n",
              "          [0.3654667 ]],\n",
              "\n",
              "         [[1.4253203 ],\n",
              "          [1.4253203 ],\n",
              "          [1.3887736 ],\n",
              "          ...,\n",
              "          [0.07309335],\n",
              "          [0.32892004],\n",
              "          [0.18273336]],\n",
              "\n",
              "         [[1.2791336 ],\n",
              "          [1.2791336 ],\n",
              "          [1.3156801 ],\n",
              "          ...,\n",
              "          [0.21928003],\n",
              "          [0.2558267 ],\n",
              "          [0.2558267 ]],\n",
              "\n",
              "         ...,\n",
              "\n",
              "         [[0.9502135 ],\n",
              "          [0.9502135 ],\n",
              "          [0.9136668 ],\n",
              "          ...,\n",
              "          [9.319402  ],\n",
              "          [9.282855  ],\n",
              "          [9.282855  ]],\n",
              "\n",
              "         [[0.9502135 ],\n",
              "          [0.9502135 ],\n",
              "          [0.9136668 ],\n",
              "          ...,\n",
              "          [9.282855  ],\n",
              "          [9.246308  ],\n",
              "          [9.246308  ]],\n",
              "\n",
              "         [[0.9502135 ],\n",
              "          [0.9502135 ],\n",
              "          [0.9136668 ],\n",
              "          ...,\n",
              "          [9.282855  ],\n",
              "          [9.246308  ],\n",
              "          [9.246308  ]]],\n",
              "\n",
              "\n",
              "        ...,\n",
              "\n",
              "\n",
              "        [[[1.4984136 ],\n",
              "          [1.4984136 ],\n",
              "          [1.4253203 ],\n",
              "          ...,\n",
              "          [0.07309335],\n",
              "          [0.3654667 ],\n",
              "          [0.3654667 ]],\n",
              "\n",
              "         [[1.4618669 ],\n",
              "          [1.4618669 ],\n",
              "          [1.3887736 ],\n",
              "          ...,\n",
              "          [9.282855  ],\n",
              "          [0.32892004],\n",
              "          [0.4020134 ]],\n",
              "\n",
              "         [[1.3522269 ],\n",
              "          [1.3522269 ],\n",
              "          [1.3887736 ],\n",
              "          ...,\n",
              "          [0.18273336],\n",
              "          [0.2558267 ],\n",
              "          [0.2558267 ]],\n",
              "\n",
              "         ...,\n",
              "\n",
              "         [[0.9502135 ],\n",
              "          [0.9502135 ],\n",
              "          [0.9502135 ],\n",
              "          ...,\n",
              "          [0.03654667],\n",
              "          [0.        ],\n",
              "          [0.        ]],\n",
              "\n",
              "         [[0.9502135 ],\n",
              "          [0.9502135 ],\n",
              "          [0.9502135 ],\n",
              "          ...,\n",
              "          [0.        ],\n",
              "          [0.        ],\n",
              "          [0.        ]],\n",
              "\n",
              "         [[0.9502135 ],\n",
              "          [0.9502135 ],\n",
              "          [0.9502135 ],\n",
              "          ...,\n",
              "          [0.        ],\n",
              "          [0.        ],\n",
              "          [0.        ]]],\n",
              "\n",
              "\n",
              "        [[[1.4618669 ],\n",
              "          [1.4618669 ],\n",
              "          [1.4253203 ],\n",
              "          ...,\n",
              "          [0.1461867 ],\n",
              "          [0.21928003],\n",
              "          [0.3654667 ]],\n",
              "\n",
              "         [[1.3887736 ],\n",
              "          [1.3887736 ],\n",
              "          [1.3522269 ],\n",
              "          ...,\n",
              "          [0.10964002],\n",
              "          [0.32892004],\n",
              "          [0.4020134 ]],\n",
              "\n",
              "         [[1.3887736 ],\n",
              "          [1.3887736 ],\n",
              "          [1.3522269 ],\n",
              "          ...,\n",
              "          [0.18273336],\n",
              "          [0.2923734 ],\n",
              "          [0.2923734 ]],\n",
              "\n",
              "         ...,\n",
              "\n",
              "         [[0.9502135 ],\n",
              "          [0.9502135 ],\n",
              "          [0.9502135 ],\n",
              "          ...,\n",
              "          [0.07309335],\n",
              "          [0.03654667],\n",
              "          [0.03654667]],\n",
              "\n",
              "         [[0.9502135 ],\n",
              "          [0.9502135 ],\n",
              "          [0.9502135 ],\n",
              "          ...,\n",
              "          [0.        ],\n",
              "          [0.        ],\n",
              "          [0.        ]],\n",
              "\n",
              "         [[0.9502135 ],\n",
              "          [0.9502135 ],\n",
              "          [0.9502135 ],\n",
              "          ...,\n",
              "          [0.        ],\n",
              "          [0.        ],\n",
              "          [0.        ]]],\n",
              "\n",
              "\n",
              "        [[[1.5349603 ],\n",
              "          [1.5349603 ],\n",
              "          [1.4618669 ],\n",
              "          ...,\n",
              "          [0.10964002],\n",
              "          [0.2558267 ],\n",
              "          [0.4020134 ]],\n",
              "\n",
              "         [[1.4984136 ],\n",
              "          [1.4984136 ],\n",
              "          [1.4253203 ],\n",
              "          ...,\n",
              "          [0.10964002],\n",
              "          [0.32892004],\n",
              "          [0.3654667 ]],\n",
              "\n",
              "         [[1.3887736 ],\n",
              "          [1.3887736 ],\n",
              "          [1.3156801 ],\n",
              "          ...,\n",
              "          [0.21928003],\n",
              "          [0.2923734 ],\n",
              "          [0.2923734 ]],\n",
              "\n",
              "         ...,\n",
              "\n",
              "         [[0.98676014],\n",
              "          [0.9502135 ],\n",
              "          [0.9502135 ],\n",
              "          ...,\n",
              "          [0.03654667],\n",
              "          [0.03654667],\n",
              "          [0.03654667]],\n",
              "\n",
              "         [[0.98676014],\n",
              "          [0.9502135 ],\n",
              "          [0.9502135 ],\n",
              "          ...,\n",
              "          [0.03654667],\n",
              "          [0.03654667],\n",
              "          [0.03654667]],\n",
              "\n",
              "         [[0.98676014],\n",
              "          [0.9502135 ],\n",
              "          [0.9502135 ],\n",
              "          ...,\n",
              "          [0.        ],\n",
              "          [0.        ],\n",
              "          [0.        ]]]]], dtype=float32)"
            ]
          },
          "execution_count": 23,
          "metadata": {},
          "output_type": "execute_result"
        }
      ],
      "source": [
        "test = data.as_numpy_iterator()\n",
        "val = test.next(); val[0]"
      ]
    },
    {
      "cell_type": "code",
      "execution_count": 24,
      "metadata": {
        "colab": {
          "base_uri": "https://localhost:8080/",
          "height": 244
        },
        "id": "DSK3NIkB11WO",
        "outputId": "b8449127-f82d-441d-f0bf-99cf90f11a0a"
      },
      "outputs": [
        {
          "data": {
            "text/plain": [
              "<matplotlib.image.AxesImage at 0x218be639910>"
            ]
          },
          "execution_count": 24,
          "metadata": {},
          "output_type": "execute_result"
        },
        {
          "data": {
            "image/png": "[encoded data removed]",
            "text/plain": [
              "<Figure size 640x480 with 1 Axes>"
            ]
          },
          "metadata": {},
          "output_type": "display_data"
        }
      ],
      "source": [
        "plt.imshow(val[0][0][0])"
      ]
    },
    {
      "cell_type": "code",
      "execution_count": 25,
      "metadata": {
        "colab": {
          "base_uri": "https://localhost:8080/"
        },
        "id": "V3odMuJv11WP",
        "outputId": "8a53d6cc-e8b5-476d-80c6-d6a8501a52d5"
      },
      "outputs": [
        {
          "data": {
            "text/plain": [
              "<tf.Tensor: shape=(), dtype=string, numpy=b'bin red at s seven soon'>"
            ]
          },
          "execution_count": 25,
          "metadata": {},
          "output_type": "execute_result"
        }
      ],
      "source": [
        "tf.strings.reduce_join([num_to_char(word) for word in val[1][0]])"
      ]
    },
    {
      "cell_type": "markdown",
      "metadata": {
        "id": "Rr_V4HP-11WP"
      },
      "source": [
        "# 3. Deep Neural Network"
      ]
    },
    {
      "cell_type": "code",
      "execution_count": 39,
      "metadata": {
        "id": "uCHdr0ox11WQ"
      },
      "outputs": [],
      "source": [
        "from tensorflow.keras.models import Sequential\n",
        "from tensorflow.keras.layers import Conv3D, LSTM, Dense, Dropout, Bidirectional, MaxPool3D, Activation, Reshape, SpatialDropout3D, BatchNormalization, TimeDistributed, Flatten\n",
        "from tensorflow.keras.optimizers.legacy import Adam\n",
        "from tensorflow.keras.callbacks import ModelCheckpoint, LearningRateScheduler"
      ]
    },
    {
      "cell_type": "code",
      "execution_count": 40,
      "metadata": {
        "id": "6n-ShcQ111WQ"
      },
      "outputs": [],
      "source": [
        "model = Sequential()\n",
        "model.add(Conv3D(128, 3, input_shape=(75,46,140,1), padding='same'))\n",
        "model.add(Activation('relu'))\n",
        "model.add(MaxPool3D((1,2,2)))\n",
        "\n",
        "model.add(Conv3D(256, 3, padding='same'))\n",
        "model.add(Activation('relu'))\n",
        "model.add(MaxPool3D((1,2,2)))\n",
        "\n",
        "model.add(Conv3D(75, 3, padding='same'))\n",
        "model.add(Activation('relu'))\n",
        "model.add(MaxPool3D((1,2,2)))\n",
        "\n",
        "model.add(TimeDistributed(Flatten()))\n",
        "\n",
        "model.add(Bidirectional(LSTM(128, kernel_initializer='Orthogonal', return_sequences=True)))\n",
        "model.add(Dropout(.5))\n",
        "\n",
        "model.add(Bidirectional(LSTM(128, kernel_initializer='Orthogonal', return_sequences=True)))\n",
        "model.add(Dropout(.5))\n",
        "\n",
        "model.add(Dense(char_to_num.vocabulary_size()+1, kernel_initializer='he_normal', activation='softmax'))"
      ]
    },
    {
      "cell_type": "code",
      "execution_count": 41,
      "metadata": {
        "colab": {
          "base_uri": "https://localhost:8080/"
        },
        "id": "4EsTna1d11WR",
        "outputId": "2e8ffe73-b7fb-4881-85e2-d8315a771940"
      },
      "outputs": [
        {
          "name": "stdout",
          "output_type": "stream",
          "text": [
            "Model: \"sequential_1\"\n",
            "_________________________________________________________________\n",
            " Layer (type)                Output Shape              Param #   \n",
            "=================================================================\n",
            " conv3d_3 (Conv3D)           (None, 75, 46, 140, 128)  3584      \n",
            "                                                                 \n",
            " activation_3 (Activation)   (None, 75, 46, 140, 128)  0         \n",
            "                                                                 \n",
            " max_pooling3d_3 (MaxPooling  (None, 75, 23, 70, 128)  0         \n",
            " 3D)                                                             \n",
            "                                                                 \n",
            " conv3d_4 (Conv3D)           (None, 75, 23, 70, 256)   884992    \n",
            "                                                                 \n",
            " activation_4 (Activation)   (None, 75, 23, 70, 256)   0         \n",
            "                                                                 \n",
            " max_pooling3d_4 (MaxPooling  (None, 75, 11, 35, 256)  0         \n",
            " 3D)                                                             \n",
            "                                                                 \n",
            " conv3d_5 (Conv3D)           (None, 75, 11, 35, 75)    518475    \n",
            "                                                                 \n",
            " activation_5 (Activation)   (None, 75, 11, 35, 75)    0         \n",
            "                                                                 \n",
            " max_pooling3d_5 (MaxPooling  (None, 75, 5, 17, 75)    0         \n",
            " 3D)                                                             \n",
            "                                                                 \n",
            " time_distributed_1 (TimeDis  (None, 75, 6375)         0         \n",
            " tributed)                                                       \n",
            "                                                                 \n",
            " bidirectional_2 (Bidirectio  (None, 75, 256)          6660096   \n",
            " nal)                                                            \n",
            "                                                                 \n",
            " dropout_2 (Dropout)         (None, 75, 256)           0         \n",
            "                                                                 \n",
            " bidirectional_3 (Bidirectio  (None, 75, 256)          394240    \n",
            " nal)                                                            \n",
            "                                                                 \n",
            " dropout_3 (Dropout)         (None, 75, 256)           0         \n",
            "                                                                 \n",
            " dense_1 (Dense)             (None, 75, 41)            10537     \n",
            "                                                                 \n",
            "=================================================================\n",
            "Total params: 8,471,924\n",
            "Trainable params: 8,471,924\n",
            "Non-trainable params: 0\n",
            "_________________________________________________________________\n"
          ]
        }
      ],
      "source": [
        "model.summary()"
      ]
    },
    {
      "cell_type": "code",
      "execution_count": 42,
      "metadata": {
        "colab": {
          "base_uri": "https://localhost:8080/"
        },
        "id": "qx6YC93111WR",
        "outputId": "00cf30fa-9690-4cd9-a71f-cae7404266aa"
      },
      "outputs": [
        {
          "name": "stdout",
          "output_type": "stream",
          "text": [
            "1/1 [==============================] - 21s 21s/step\n"
          ]
        }
      ],
      "source": [
        "yhat = model.predict(val[0])"
      ]
    },
    {
      "cell_type": "code",
      "execution_count": 43,
      "metadata": {
        "colab": {
          "base_uri": "https://localhost:8080/"
        },
        "id": "0BNz4YzH11WS",
        "outputId": "22960b2b-9b31-48c8-d928-e52fa9964de9"
      },
      "outputs": [
        {
          "data": {
            "text/plain": [
              "<tf.Tensor: shape=(), dtype=string, numpy=b'mmmmmmmmmmmmmmmmmooooooooooooooooooooooooooooooommmmmmmmmmmmmmmmmmmmmmmmmm?'>"
            ]
          },
          "execution_count": 43,
          "metadata": {},
          "output_type": "execute_result"
        }
      ],
      "source": [
        "tf.strings.reduce_join([num_to_char(tf.argmax(x)) for x in yhat[0]])"
      ]
    },
    {
      "cell_type": "markdown",
      "metadata": {
        "id": "9S4GTm_311WT"
      },
      "source": [
        "# 4. Train The Model"
      ]
    },
    {
      "cell_type": "code",
      "execution_count": 44,
      "metadata": {
        "id": "rgn_2K-811WT"
      },
      "outputs": [],
      "source": [
        "def scheduler(epoch, lr):\n",
        "    if epoch<30:\n",
        "        return lr\n",
        "    else:\n",
        "        return lr * tf.math.exp(-0.1)"
      ]
    },
    {
      "cell_type": "code",
      "execution_count": 45,
      "metadata": {
        "id": "MW2LYv2k11WT"
      },
      "outputs": [],
      "source": [
        "def CTCLoss(y_true, y_pred):\n",
        "    batch_len = tf.cast(tf.shape(y_true)[0], dtype='int64')\n",
        "    input_length = tf.cast(tf.shape(y_pred)[1], dtype='int64')\n",
        "    label_length = tf.cast(tf.shape(y_true)[1], dtype='int64')\n",
        "\n",
        "    input_length = input_length * tf.ones(shape=(batch_len, 1), dtype='int64')\n",
        "    label_length = label_length * tf.ones(shape=(batch_len, 1), dtype='int64')\n",
        "\n",
        "    loss = tf.keras.backend.ctc_batch_cost(y_true, y_pred, input_length, label_length)\n",
        "    return loss"
      ]
    },
    {
      "cell_type": "code",
      "execution_count": 46,
      "metadata": {
        "id": "DtIjcukp11WU"
      },
      "outputs": [],
      "source": [
        "class ProduceExample(tf.keras.callbacks.Callback): \n",
        "    def __init__(self, dataset) -> None: \n",
        "        self.dataset = iter(dataset)\n",
        "    \n",
        "    def on_epoch_end(self, epoch, logs=None) -> None:\n",
        "        data = self.dataset.next()\n",
        "        yhat = self.model.predict(data[0])\n",
        "        decoded = tf.keras.backend.ctc_decode(yhat, [75,75], greedy=False)[0][0].numpy()\n",
        "        for x in range(len(yhat)):           \n",
        "            print('Original:', tf.strings.reduce_join(num_to_char(data[1][x])).numpy().decode('utf-8'))\n",
        "            print('Prediction:', tf.strings.reduce_join(num_to_char(decoded[x])).numpy().decode('utf-8'))\n",
        "            print('~'*100)"
      ]
    },
    {
      "cell_type": "code",
      "execution_count": 47,
      "metadata": {
        "id": "xW7kgloJ11WU"
      },
      "outputs": [],
      "source": [
        "model.compile(optimizer=Adam(learning_rate=0.0001), loss=CTCLoss)"
      ]
    },
    {
      "cell_type": "code",
      "execution_count": 48,
      "metadata": {
        "id": "WVRNcyly11WV"
      },
      "outputs": [],
      "source": [
        "checkpoint_callback = ModelCheckpoint(os.path.join('models','checkpoint'), monitor='loss', save_weights_only=True)"
      ]
    },
    {
      "cell_type": "code",
      "execution_count": 49,
      "metadata": {
        "id": "UsqNcfjT11WV"
      },
      "outputs": [],
      "source": [
        "schedule_callback = LearningRateScheduler(scheduler)"
      ]
    },
    {
      "cell_type": "code",
      "execution_count": 50,
      "metadata": {
        "id": "7y4hsYJ-11WV"
      },
      "outputs": [],
      "source": [
        "example_callback = ProduceExample(data)"
      ]
    },
    {
      "cell_type": "code",
      "execution_count": 32,
      "metadata": {
        "colab": {
          "base_uri": "https://localhost:8080/",
          "height": 660
        },
        "id": "3WZ2HEWP11WW",
        "outputId": "0369db07-14ee-4e2a-d11a-5465bfb6810c"
      },
      "outputs": [
        {
          "name": "stdout",
          "output_type": "stream",
          "text": [
            "Epoch 1/100\n",
            "1/1 [==============================] - 2s 2s/step\n",
            "Original: bin red with t four now\n",
            "Prediction: le e e e o\n",
            "~~~~~~~~~~~~~~~~~~~~~~~~~~~~~~~~~~~~~~~~~~~~~~~~~~~~~~~~~~~~~~~~~~~~~~~~~~~~~~~~~~~~~~~~~~~~~~~~~~~~\n",
            "Original: place blue by j zero please\n",
            "Prediction: le e e e o\n",
            "~~~~~~~~~~~~~~~~~~~~~~~~~~~~~~~~~~~~~~~~~~~~~~~~~~~~~~~~~~~~~~~~~~~~~~~~~~~~~~~~~~~~~~~~~~~~~~~~~~~~\n",
            "450/450 [==============================] - 776s 2s/step - loss: 74.9400 - val_loss: 68.3525 - lr: 1.0000e-04\n",
            "Epoch 2/100\n",
            "450/450 [==============================] - ETA: 0s - loss: 69.1152"
          ]
        },
        {
          "name": "stderr",
          "output_type": "stream",
          "text": [
            "WARNING:tensorflow:Your input ran out of data; interrupting training. Make sure that your dataset or generator can generate at least `steps_per_epoch * epochs` batches (in this case, 499 batches). You may need to use the repeat() function when building your dataset.\n"
          ]
        },
        {
          "name": "stdout",
          "output_type": "stream",
          "text": [
            "1/1 [==============================] - 0s 225ms/step\n",
            "Original: bin white with n eight please\n",
            "Prediction: la e e e e oa\n",
            "~~~~~~~~~~~~~~~~~~~~~~~~~~~~~~~~~~~~~~~~~~~~~~~~~~~~~~~~~~~~~~~~~~~~~~~~~~~~~~~~~~~~~~~~~~~~~~~~~~~~\n",
            "Original: set blue by n eight sp please\n",
            "Prediction: la e e e e oa\n",
            "~~~~~~~~~~~~~~~~~~~~~~~~~~~~~~~~~~~~~~~~~~~~~~~~~~~~~~~~~~~~~~~~~~~~~~~~~~~~~~~~~~~~~~~~~~~~~~~~~~~~\n",
            "450/450 [==============================] - 442s 982ms/step - loss: 69.1152 - lr: 1.0000e-04\n"
          ]
        },
        {
          "ename": "KeyboardInterrupt",
          "evalue": "ignored",
          "output_type": "error",
          "traceback": [
            "\u001b[0;31m---------------------------------------------------------------------------\u001b[0m",
            "\u001b[0;31mKeyboardInterrupt\u001b[0m                         Traceback (most recent call last)",
            "\u001b[0;32m<ipython-input-32-3f54ab0eeaa9>\u001b[0m in \u001b[0;36m<cell line: 1>\u001b[0;34m()\u001b[0m\n\u001b[0;32m----> 1\u001b[0;31m \u001b[0mmodel\u001b[0m\u001b[0;34m.\u001b[0m\u001b[0mfit\u001b[0m\u001b[0;34m(\u001b[0m\u001b[0mtrain\u001b[0m\u001b[0;34m,\u001b[0m \u001b[0mvalidation_data\u001b[0m\u001b[0;34m=\u001b[0m\u001b[0mtest\u001b[0m\u001b[0;34m,\u001b[0m \u001b[0mepochs\u001b[0m\u001b[0;34m=\u001b[0m\u001b[0;36m100\u001b[0m\u001b[0;34m,\u001b[0m \u001b[0mcallbacks\u001b[0m\u001b[0;34m=\u001b[0m\u001b[0;34m[\u001b[0m\u001b[0mcheckpoint_callback\u001b[0m\u001b[0;34m,\u001b[0m \u001b[0mschedule_callback\u001b[0m\u001b[0;34m,\u001b[0m \u001b[0mexample_callback\u001b[0m\u001b[0;34m]\u001b[0m\u001b[0;34m)\u001b[0m\u001b[0;34m\u001b[0m\u001b[0;34m\u001b[0m\u001b[0m\n\u001b[0m",
            "\u001b[0;32m/usr/local/lib/python3.10/dist-packages/keras/utils/traceback_utils.py\u001b[0m in \u001b[0;36merror_handler\u001b[0;34m(*args, **kwargs)\u001b[0m\n\u001b[1;32m     63\u001b[0m         \u001b[0mfiltered_tb\u001b[0m \u001b[0;34m=\u001b[0m \u001b[0;32mNone\u001b[0m\u001b[0;34m\u001b[0m\u001b[0;34m\u001b[0m\u001b[0m\n\u001b[1;32m     64\u001b[0m         \u001b[0;32mtry\u001b[0m\u001b[0;34m:\u001b[0m\u001b[0;34m\u001b[0m\u001b[0;34m\u001b[0m\u001b[0m\n\u001b[0;32m---> 65\u001b[0;31m             \u001b[0;32mreturn\u001b[0m \u001b[0mfn\u001b[0m\u001b[0;34m(\u001b[0m\u001b[0;34m*\u001b[0m\u001b[0margs\u001b[0m\u001b[0;34m,\u001b[0m \u001b[0;34m**\u001b[0m\u001b[0mkwargs\u001b[0m\u001b[0;34m)\u001b[0m\u001b[0;34m\u001b[0m\u001b[0;34m\u001b[0m\u001b[0m\n\u001b[0m\u001b[1;32m     66\u001b[0m         \u001b[0;32mexcept\u001b[0m \u001b[0mException\u001b[0m \u001b[0;32mas\u001b[0m \u001b[0me\u001b[0m\u001b[0;34m:\u001b[0m\u001b[0;34m\u001b[0m\u001b[0;34m\u001b[0m\u001b[0m\n\u001b[1;32m     67\u001b[0m             \u001b[0mfiltered_tb\u001b[0m \u001b[0;34m=\u001b[0m \u001b[0m_process_traceback_frames\u001b[0m\u001b[0;34m(\u001b[0m\u001b[0me\u001b[0m\u001b[0;34m.\u001b[0m\u001b[0m__traceback__\u001b[0m\u001b[0;34m)\u001b[0m\u001b[0;34m\u001b[0m\u001b[0;34m\u001b[0m\u001b[0m\n",
            "\u001b[0;32m/usr/local/lib/python3.10/dist-packages/keras/engine/training.py\u001b[0m in \u001b[0;36mfit\u001b[0;34m(self, x, y, batch_size, epochs, verbose, callbacks, validation_split, validation_data, shuffle, class_weight, sample_weight, initial_epoch, steps_per_epoch, validation_steps, validation_batch_size, validation_freq, max_queue_size, workers, use_multiprocessing)\u001b[0m\n\u001b[1;32m   1671\u001b[0m             \u001b[0mlogs\u001b[0m \u001b[0;34m=\u001b[0m \u001b[0;32mNone\u001b[0m\u001b[0;34m\u001b[0m\u001b[0;34m\u001b[0m\u001b[0m\n\u001b[1;32m   1672\u001b[0m             \u001b[0;32mfor\u001b[0m \u001b[0mepoch\u001b[0m\u001b[0;34m,\u001b[0m \u001b[0miterator\u001b[0m \u001b[0;32min\u001b[0m \u001b[0mdata_handler\u001b[0m\u001b[0;34m.\u001b[0m\u001b[0menumerate_epochs\u001b[0m\u001b[0;34m(\u001b[0m\u001b[0;34m)\u001b[0m\u001b[0;34m:\u001b[0m\u001b[0;34m\u001b[0m\u001b[0;34m\u001b[0m\u001b[0m\n\u001b[0;32m-> 1673\u001b[0;31m                 \u001b[0mself\u001b[0m\u001b[0;34m.\u001b[0m\u001b[0mreset_metrics\u001b[0m\u001b[0;34m(\u001b[0m\u001b[0;34m)\u001b[0m\u001b[0;34m\u001b[0m\u001b[0;34m\u001b[0m\u001b[0m\n\u001b[0m\u001b[1;32m   1674\u001b[0m                 \u001b[0mcallbacks\u001b[0m\u001b[0;34m.\u001b[0m\u001b[0mon_epoch_begin\u001b[0m\u001b[0;34m(\u001b[0m\u001b[0mepoch\u001b[0m\u001b[0;34m)\u001b[0m\u001b[0;34m\u001b[0m\u001b[0;34m\u001b[0m\u001b[0m\n\u001b[1;32m   1675\u001b[0m                 \u001b[0;32mwith\u001b[0m \u001b[0mdata_handler\u001b[0m\u001b[0;34m.\u001b[0m\u001b[0mcatch_stop_iteration\u001b[0m\u001b[0;34m(\u001b[0m\u001b[0;34m)\u001b[0m\u001b[0;34m:\u001b[0m\u001b[0;34m\u001b[0m\u001b[0;34m\u001b[0m\u001b[0m\n",
            "\u001b[0;32m/usr/local/lib/python3.10/dist-packages/keras/engine/training.py\u001b[0m in \u001b[0;36mreset_metrics\u001b[0;34m(self)\u001b[0m\n\u001b[1;32m   2426\u001b[0m         \u001b[0;32mreturn\u001b[0m \u001b[0mtf_utils\u001b[0m\u001b[0;34m.\u001b[0m\u001b[0msync_to_numpy_or_python_type\u001b[0m\u001b[0;34m(\u001b[0m\u001b[0mall_outputs\u001b[0m\u001b[0;34m)\u001b[0m\u001b[0;34m\u001b[0m\u001b[0;34m\u001b[0m\u001b[0m\n\u001b[1;32m   2427\u001b[0m \u001b[0;34m\u001b[0m\u001b[0m\n\u001b[0;32m-> 2428\u001b[0;31m     \u001b[0;32mdef\u001b[0m \u001b[0mreset_metrics\u001b[0m\u001b[0;34m(\u001b[0m\u001b[0mself\u001b[0m\u001b[0;34m)\u001b[0m\u001b[0;34m:\u001b[0m\u001b[0;34m\u001b[0m\u001b[0;34m\u001b[0m\u001b[0m\n\u001b[0m\u001b[1;32m   2429\u001b[0m         \"\"\"Resets the state of all the metrics in the model.\n\u001b[1;32m   2430\u001b[0m \u001b[0;34m\u001b[0m\u001b[0m\n",
            "\u001b[0;31mKeyboardInterrupt\u001b[0m: "
          ]
        }
      ],
      "source": [
        "model.fit(train, validation_data=test, epochs=100, callbacks=[checkpoint_callback, schedule_callback, example_callback])"
      ]
    },
    {
      "cell_type": "markdown",
      "metadata": {
        "id": "pL6HwWiv7axl"
      },
      "source": [
        "# 5. Make Predictions"
      ]
    },
    {
      "cell_type": "code",
      "execution_count": 51,
      "metadata": {},
      "outputs": [
        {
          "data": {
            "text/plain": [
              "<tensorflow.python.checkpoint.checkpoint.CheckpointLoadStatus at 0x218c35344f0>"
            ]
          },
          "execution_count": 51,
          "metadata": {},
          "output_type": "execute_result"
        }
      ],
      "source": [
        "model.load_weights('models\\\\checkpoint')"
      ]
    },
    {
      "cell_type": "code",
      "execution_count": 64,
      "metadata": {},
      "outputs": [],
      "source": [
        "test_data = iter(test)\n",
        "sample = test_data.next()"
      ]
    },
    {
      "cell_type": "code",
      "execution_count": 65,
      "metadata": {},
      "outputs": [
        {
          "name": "stdout",
          "output_type": "stream",
          "text": [
            "1/1 [==============================] - 12s 12s/step\n"
          ]
        }
      ],
      "source": [
        "yhat = model.predict(sample[0])"
      ]
    },
    {
      "cell_type": "code",
      "execution_count": 66,
      "metadata": {},
      "outputs": [],
      "source": [
        "decoded = tf.keras.backend.ctc_decode(yhat, input_length=[75,75], greedy=True)[0][0].numpy()"
      ]
    },
    {
      "cell_type": "code",
      "execution_count": 67,
      "metadata": {},
      "outputs": [
        {
          "name": "stdout",
          "output_type": "stream",
          "text": [
            "REAL TEXT\n"
          ]
        },
        {
          "data": {
            "text/plain": [
              "[<tf.Tensor: shape=(), dtype=string, numpy=b'place green with z one againbin red with n three again'>]"
            ]
          },
          "execution_count": 67,
          "metadata": {},
          "output_type": "execute_result"
        }
      ],
      "source": [
        "print('REAL TEXT')\n",
        "[tf.strings.reduce_join([num_to_char(word) for word in sentence]) for sentence in [sample[1]]]"
      ]
    },
    {
      "cell_type": "code",
      "execution_count": 68,
      "metadata": {},
      "outputs": [
        {
          "name": "stdout",
          "output_type": "stream",
          "text": [
            "PREDICTIONS\n"
          ]
        },
        {
          "data": {
            "text/plain": [
              "[<tf.Tensor: shape=(), dtype=string, numpy=b'place green with z one again'>,\n",
              " <tf.Tensor: shape=(), dtype=string, numpy=b'bin red with n three again'>]"
            ]
          },
          "execution_count": 68,
          "metadata": {},
          "output_type": "execute_result"
        }
      ],
      "source": [
        "print('PREDICTIONS')\n",
        "[tf.strings.reduce_join([num_to_char(word) for word in sentence]) for sentence in decoded]"
      ]
    },
    {
      "attachments": {},
      "cell_type": "markdown",
      "metadata": {},
      "source": [
        "# Test on a Video"
      ]
    },
    {
      "cell_type": "code",
      "execution_count": 70,
      "metadata": {},
      "outputs": [],
      "source": [
        "sample = load_data(tf.convert_to_tensor('.\\\\data\\\\s1\\\\bras9a.mpg'))"
      ]
    },
    {
      "cell_type": "code",
      "execution_count": 71,
      "metadata": {},
      "outputs": [
        {
          "name": "stdout",
          "output_type": "stream",
          "text": [
            "REAL TEXT\n"
          ]
        },
        {
          "data": {
            "text/plain": [
              "[<tf.Tensor: shape=(), dtype=string, numpy=b'bin red at s nine again'>]"
            ]
          },
          "execution_count": 71,
          "metadata": {},
          "output_type": "execute_result"
        }
      ],
      "source": [
        "print('REAL TEXT')\n",
        "[tf.strings.reduce_join([num_to_char(word) for word in sentence]) for sentence in [sample[1]]]"
      ]
    },
    {
      "cell_type": "code",
      "execution_count": 72,
      "metadata": {},
      "outputs": [
        {
          "name": "stdout",
          "output_type": "stream",
          "text": [
            "1/1 [==============================] - 12s 12s/step\n"
          ]
        }
      ],
      "source": [
        "yhat = model.predict(tf.expand_dims(sample[0], axis=0))\n",
        "decoded = tf.keras.backend.ctc_decode(yhat, input_length=[75], greedy=True)[0][0].numpy()"
      ]
    },
    {
      "cell_type": "code",
      "execution_count": 73,
      "metadata": {},
      "outputs": [
        {
          "name": "stdout",
          "output_type": "stream",
          "text": [
            "PREDICTIONS\n"
          ]
        },
        {
          "data": {
            "text/plain": [
              "[<tf.Tensor: shape=(), dtype=string, numpy=b'bin red at s nine again'>]"
            ]
          },
          "execution_count": 73,
          "metadata": {},
          "output_type": "execute_result"
        }
      ],
      "source": [
        "print('PREDICTIONS')\n",
        "[tf.strings.reduce_join([num_to_char(word) for word in sentence]) for sentence in decoded]"
      ]
    }
  ],
  "metadata": {
    "accelerator": "GPU",
    "colab": {
      "provenance": []
    },
    "gpuClass": "standard",
    "kernelspec": {
      "display_name": "Python 3",
      "name": "python3"
    },
    "language_info": {
      "codemirror_mode": {
        "name": "ipython",
        "version": 3
      },
      "file_extension": ".py",
      "mimetype": "text/x-python",
      "name": "python",
      "nbconvert_exporter": "python",
      "pygments_lexer": "ipython3",
      "version": "3.9.9"
    }
  },
  "nbformat": 4,
  "nbformat_minor": 0
}
