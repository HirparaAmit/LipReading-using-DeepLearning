{
  "cells": [
    {
      "cell_type": "markdown",
      "metadata": {
        "id": "pmR7uHl7kj4v"
      },
      "source": [
        "# 0. Install and Import Dependencies"
      ]
    },
    {
      "cell_type": "code",
      "execution_count": null,
      "metadata": {
        "colab": {
          "base_uri": "https://localhost:8080/"
        },
        "id": "1OBqoUgykSNa",
        "outputId": "f88879e3-c63c-4e43-f706-8142a19d7ab4"
      },
      "outputs": [],
      "source": [
        "! pip install opencv-python matplotlib tensorflow imageio gdown "
      ]
    },
    {
      "cell_type": "code",
      "execution_count": 3,
      "metadata": {
        "id": "po8LSKn2k9P0"
      },
      "outputs": [],
      "source": [
        "import os\n",
        "import cv2\n",
        "import tensorflow as tf\n",
        "import numpy as np\n",
        "from typing import List\n",
        "from matplotlib import pyplot as plt\n",
        "import imageio"
      ]
    },
    {
      "cell_type": "code",
      "execution_count": 32,
      "metadata": {
        "id": "JKeeWBSLlPLQ"
      },
      "outputs": [],
      "source": [
        "physical_devices = tf.config.list_physical_devices('GPU')\n",
        "try:\n",
        "  tf.config.experimental.set_memory_growth(physical_devices[0], True)\n",
        "except:\n",
        "  pass"
      ]
    },
    {
      "cell_type": "markdown",
      "metadata": {
        "id": "bcDTswCrmwR9"
      },
      "source": [
        "# 1. Data Loading Functions"
      ]
    },
    {
      "cell_type": "code",
      "execution_count": null,
      "metadata": {
        "colab": {
          "base_uri": "https://localhost:8080/"
        },
        "id": "Ni9ot0_YmzCm",
        "outputId": "d0dfb963-6697-41d4-cf59-c1eef782b1a4"
      },
      "outputs": [],
      "source": [
        "import gdown\n",
        "\n",
        "url = 'https://drive.google.com/uc?id=1YlvpDLix3S-U8fd-gqRwPcWXAXm8JwjL'\n",
        "output = 'data.zip'\n",
        "gdown.download(url, output, quiet=False)\n",
        "gdown.extractall('data.zip')"
      ]
    },
    {
      "cell_type": "code",
      "execution_count": 5,
      "metadata": {
        "id": "mLxeyZq4rFGe"
      },
      "outputs": [],
      "source": [
        "def load_video(path:str) -> List[float]: \n",
        "\n",
        "    cap = cv2.VideoCapture(path)\n",
        "    frames = []\n",
        "    for _ in range(int(cap.get(cv2.CAP_PROP_FRAME_COUNT))): \n",
        "        ret, frame = cap.read()\n",
        "        frame = tf.image.rgb_to_grayscale(frame)\n",
        "        frames.append(frame[190:236,80:220,:])\n",
        "    cap.release()\n",
        "    \n",
        "    mean = tf.math.reduce_mean(frames)\n",
        "    std = tf.math.reduce_std(tf.cast(frames, tf.float32))\n",
        "    return tf.cast((frames - mean), tf.float32) / std"
      ]
    },
    {
      "cell_type": "code",
      "execution_count": 6,
      "metadata": {
        "id": "g24o7UTvsGsG"
      },
      "outputs": [],
      "source": [
        "vocab = [x for x in \"abcdefghijklmnopqrstuvwxyz'?!123456789 \"]"
      ]
    },
    {
      "cell_type": "code",
      "execution_count": 7,
      "metadata": {
        "colab": {
          "base_uri": "https://localhost:8080/"
        },
        "id": "f8rNUGH7sgDd",
        "outputId": "e41da703-bfeb-49d9-e66c-3db351520640"
      },
      "outputs": [
        {
          "name": "stdout",
          "output_type": "stream",
          "text": [
            "The vocabulary is: ['', 'a', 'b', 'c', 'd', 'e', 'f', 'g', 'h', 'i', 'j', 'k', 'l', 'm', 'n', 'o', 'p', 'q', 'r', 's', 't', 'u', 'v', 'w', 'x', 'y', 'z', \"'\", '?', '!', '1', '2', '3', '4', '5', '6', '7', '8', '9', ' '] (size =40)\n"
          ]
        }
      ],
      "source": [
        "char_to_num = tf.keras.layers.StringLookup(vocabulary=vocab, oov_token=\"\")\n",
        "num_to_char = tf.keras.layers.StringLookup(vocabulary=char_to_num.get_vocabulary(), oov_token=\"\", invert=True)\n",
        "\n",
        "print(f\"The vocabulary is: {char_to_num.get_vocabulary()} \"\n",
        "      f\"(size ={char_to_num.vocabulary_size()})\")"
      ]
    },
    {
      "cell_type": "code",
      "execution_count": 8,
      "metadata": {
        "id": "mLYrkqXVvy6Z"
      },
      "outputs": [],
      "source": [
        "def load_alignments(path:str) -> List[str]: \n",
        "    with open(path, 'r') as f: \n",
        "        lines = f.readlines() \n",
        "    tokens = []\n",
        "    for line in lines:\n",
        "        line = line.split()\n",
        "        if line[2] != 'sil': \n",
        "            tokens = [*tokens,' ',line[2]]\n",
        "    return char_to_num(tf.reshape(tf.strings.unicode_split(tokens, input_encoding='UTF-8'), (-1)))[1:]"
      ]
    },
    {
      "cell_type": "code",
      "execution_count": 9,
      "metadata": {
        "id": "BDi0uQ1Xx3pA"
      },
      "outputs": [],
      "source": [
        "def load_data(path: str): \n",
        "    path = bytes.decode(path.numpy())\n",
        "    file_name = path.split('\\\\')[-1].split('.')[0]\n",
        "    video_path = os.path.join('data','s1',f'{file_name}.mpg')\n",
        "    alignment_path = os.path.join('data','alignments','s1',f'{file_name}.align')\n",
        "    frames = load_video(video_path) \n",
        "    alignments = load_alignments(alignment_path)\n",
        "    \n",
        "    return frames, alignments"
      ]
    },
    {
      "cell_type": "code",
      "execution_count": 10,
      "metadata": {
        "colab": {
          "base_uri": "https://localhost:8080/"
        },
        "id": "qZwWohbly34x",
        "outputId": "873c71a7-5757-4dd2-85b4-70076076e57e"
      },
      "outputs": [],
      "source": [
        "test_path = '.\\\\data\\\\s1\\\\bbal6n.mpg'\n",
        "\n",
        "frames, alignments = load_data(tf.convert_to_tensor(test_path))"
      ]
    },
    {
      "cell_type": "code",
      "execution_count": 11,
      "metadata": {
        "colab": {
          "base_uri": "https://localhost:8080/",
          "height": 244
        },
        "id": "cyruPQG62LiQ",
        "outputId": "6dae848d-99e0-4512-ccef-d6d61eb88869"
      },
      "outputs": [
        {
          "data": {
            "text/plain": [
              "<matplotlib.image.AxesImage at 0x290b666caf0>"
            ]
          },
          "execution_count": 11,
          "metadata": {},
          "output_type": "execute_result"
        },
        {
          "data": {
            "image/png": "[encoded data removed]",
            "text/plain": [
              "<Figure size 640x480 with 1 Axes>"
            ]
          },
          "metadata": {},
          "output_type": "display_data"
        }
      ],
      "source": [
        "plt.imshow(frames[35])"
      ]
    },
    {
      "cell_type": "code",
      "execution_count": 12,
      "metadata": {
        "colab": {
          "base_uri": "https://localhost:8080/"
        },
        "id": "4UANvoUluRjy",
        "outputId": "c9863089-2d6a-475b-db02-822bcf12f601"
      },
      "outputs": [
        {
          "data": {
            "text/plain": [
              "<tf.Tensor: shape=(), dtype=string, numpy=b'bin blue at l six now'>"
            ]
          },
          "execution_count": 12,
          "metadata": {},
          "output_type": "execute_result"
        }
      ],
      "source": [
        "tf.strings.reduce_join([bytes.decode(x) for x in num_to_char(alignments.numpy()).numpy()])"
      ]
    },
    {
      "cell_type": "code",
      "execution_count": 13,
      "metadata": {
        "id": "txydXiJ70fh4"
      },
      "outputs": [],
      "source": [
        "def mappable_function(path:str) ->List[str]:\n",
        "    result = tf.py_function(load_data, [path], (tf.float32, tf.int64))\n",
        "    return result"
      ]
    },
    {
      "cell_type": "markdown",
      "metadata": {
        "id": "pfx-ZRGw2cCJ"
      },
      "source": [
        "# 2. Data Pipeline"
      ]
    },
    {
      "cell_type": "code",
      "execution_count": 14,
      "metadata": {
        "id": "m38afOPq2ePh"
      },
      "outputs": [],
      "source": [
        "data = tf.data.Dataset.list_files('./data/s1/*.mpg')\n",
        "data = data.shuffle(500, reshuffle_each_iteration=False)\n",
        "data = data.map(mappable_function)\n",
        "data = data.padded_batch(2, padded_shapes=([75,None,None,None],[40]))\n",
        "data = data.prefetch(tf.data.AUTOTUNE)\n",
        "# Added for split \n",
        "train = data.take(450)\n",
        "test = data.skip(450)"
      ]
    },
    {
      "cell_type": "code",
      "execution_count": 15,
      "metadata": {
        "colab": {
          "base_uri": "https://localhost:8080/",
          "height": 744
        },
        "id": "0THjczTFskPG",
        "outputId": "590d64d6-7cb8-4a5f-b296-4e2a30433a35"
      },
      "outputs": [],
      "source": [
        "frames, alignments = data.as_numpy_iterator().next()"
      ]
    },
    {
      "cell_type": "code",
      "execution_count": 16,
      "metadata": {},
      "outputs": [
        {
          "data": {
            "text/plain": [
              "array([[[[[1.5059857 ],\n",
              "          [1.5059857 ],\n",
              "          [1.3957916 ],\n",
              "          ...,\n",
              "          [0.40404496],\n",
              "          [0.40404496],\n",
              "          [0.40404496]],\n",
              "\n",
              "         [[1.5059857 ],\n",
              "          [1.3590603 ],\n",
              "          [1.3590603 ],\n",
              "          ...,\n",
              "          [0.40404496],\n",
              "          [0.40404496],\n",
              "          [0.40404496]],\n",
              "\n",
              "         [[1.432523  ],\n",
              "          [1.432523  ],\n",
              "          [1.432523  ],\n",
              "          ...,\n",
              "          [0.33058223],\n",
              "          [0.2571195 ],\n",
              "          [0.2571195 ]],\n",
              "\n",
              "         ...,\n",
              "\n",
              "         [[1.0652094 ],\n",
              "          [1.0652094 ],\n",
              "          [1.0652094 ],\n",
              "          ...,\n",
              "          [0.14692543],\n",
              "          [0.14692543],\n",
              "          [0.14692543]],\n",
              "\n",
              "         [[1.0652094 ],\n",
              "          [1.0652094 ],\n",
              "          [1.0652094 ],\n",
              "          ...,\n",
              "          [0.11019408],\n",
              "          [0.11019408],\n",
              "          [0.11019408]],\n",
              "\n",
              "         [[1.0652094 ],\n",
              "          [1.0652094 ],\n",
              "          [1.0652094 ],\n",
              "          ...,\n",
              "          [0.11019408],\n",
              "          [0.11019408],\n",
              "          [0.07346272]]],\n",
              "\n",
              "\n",
              "        [[[1.4692544 ],\n",
              "          [1.5427171 ],\n",
              "          [1.432523  ],\n",
              "          ...,\n",
              "          [0.3673136 ],\n",
              "          [0.3673136 ],\n",
              "          [0.3673136 ]],\n",
              "\n",
              "         [[1.5427171 ],\n",
              "          [1.4692544 ],\n",
              "          [1.3957916 ],\n",
              "          ...,\n",
              "          [0.3673136 ],\n",
              "          [0.3673136 ],\n",
              "          [0.3673136 ]],\n",
              "\n",
              "         [[1.5059857 ],\n",
              "          [1.5059857 ],\n",
              "          [1.432523  ],\n",
              "          ...,\n",
              "          [0.3673136 ],\n",
              "          [0.33058223],\n",
              "          [0.33058223]],\n",
              "\n",
              "         ...,\n",
              "\n",
              "         [[1.0652094 ],\n",
              "          [1.0652094 ],\n",
              "          [1.0652094 ],\n",
              "          ...,\n",
              "          [0.14692543],\n",
              "          [0.14692543],\n",
              "          [0.14692543]],\n",
              "\n",
              "         [[1.0652094 ],\n",
              "          [1.0652094 ],\n",
              "          [1.0652094 ],\n",
              "          ...,\n",
              "          [0.11019408],\n",
              "          [0.11019408],\n",
              "          [0.07346272]],\n",
              "\n",
              "         [[1.0652094 ],\n",
              "          [1.0652094 ],\n",
              "          [1.0652094 ],\n",
              "          ...,\n",
              "          [0.11019408],\n",
              "          [0.07346272],\n",
              "          [0.07346272]]],\n",
              "\n",
              "\n",
              "        [[[1.432523  ],\n",
              "          [1.5059857 ],\n",
              "          [1.3957916 ],\n",
              "          ...,\n",
              "          [0.3673136 ],\n",
              "          [0.3673136 ],\n",
              "          [0.3673136 ]],\n",
              "\n",
              "         [[1.432523  ],\n",
              "          [1.5059857 ],\n",
              "          [1.4692544 ],\n",
              "          ...,\n",
              "          [0.3673136 ],\n",
              "          [0.3673136 ],\n",
              "          [0.3673136 ]],\n",
              "\n",
              "         [[1.4692544 ],\n",
              "          [1.4692544 ],\n",
              "          [1.432523  ],\n",
              "          ...,\n",
              "          [0.40404496],\n",
              "          [0.3673136 ],\n",
              "          [0.3673136 ]],\n",
              "\n",
              "         ...,\n",
              "\n",
              "         [[1.0652094 ],\n",
              "          [1.0652094 ],\n",
              "          [1.0652094 ],\n",
              "          ...,\n",
              "          [0.11019408],\n",
              "          [0.11019408],\n",
              "          [0.11019408]],\n",
              "\n",
              "         [[1.0652094 ],\n",
              "          [1.0652094 ],\n",
              "          [1.0652094 ],\n",
              "          ...,\n",
              "          [0.11019408],\n",
              "          [0.11019408],\n",
              "          [0.07346272]],\n",
              "\n",
              "         [[1.0652094 ],\n",
              "          [1.0652094 ],\n",
              "          [1.0652094 ],\n",
              "          ...,\n",
              "          [0.11019408],\n",
              "          [0.07346272],\n",
              "          [0.07346272]]],\n",
              "\n",
              "\n",
              "        ...,\n",
              "\n",
              "\n",
              "        [[[1.432523  ],\n",
              "          [1.3223289 ],\n",
              "          [1.432523  ],\n",
              "          ...,\n",
              "          [0.3673136 ],\n",
              "          [0.33058223],\n",
              "          [0.33058223]],\n",
              "\n",
              "         [[1.3223289 ],\n",
              "          [1.5794485 ],\n",
              "          [1.3223289 ],\n",
              "          ...,\n",
              "          [0.3673136 ],\n",
              "          [0.33058223],\n",
              "          [0.33058223]],\n",
              "\n",
              "         [[1.4692544 ],\n",
              "          [1.432523  ],\n",
              "          [1.432523  ],\n",
              "          ...,\n",
              "          [0.3673136 ],\n",
              "          [0.3673136 ],\n",
              "          [0.3673136 ]],\n",
              "\n",
              "         ...,\n",
              "\n",
              "         [[1.0652094 ],\n",
              "          [1.0652094 ],\n",
              "          [1.0652094 ],\n",
              "          ...,\n",
              "          [0.14692543],\n",
              "          [0.14692543],\n",
              "          [0.11019408]],\n",
              "\n",
              "         [[1.0652094 ],\n",
              "          [1.0652094 ],\n",
              "          [1.0652094 ],\n",
              "          ...,\n",
              "          [0.11019408],\n",
              "          [0.11019408],\n",
              "          [0.11019408]],\n",
              "\n",
              "         [[1.028478  ],\n",
              "          [1.028478  ],\n",
              "          [1.028478  ],\n",
              "          ...,\n",
              "          [0.11019408],\n",
              "          [0.11019408],\n",
              "          [0.07346272]]],\n",
              "\n",
              "\n",
              "        [[[1.5059857 ],\n",
              "          [1.3957916 ],\n",
              "          [1.3957916 ],\n",
              "          ...,\n",
              "          [0.40404496],\n",
              "          [0.3673136 ],\n",
              "          [0.3673136 ]],\n",
              "\n",
              "         [[1.5059857 ],\n",
              "          [1.4692544 ],\n",
              "          [1.432523  ],\n",
              "          ...,\n",
              "          [0.40404496],\n",
              "          [0.3673136 ],\n",
              "          [0.3673136 ]],\n",
              "\n",
              "         [[1.5427171 ],\n",
              "          [1.4692544 ],\n",
              "          [1.4692544 ],\n",
              "          ...,\n",
              "          [0.33058223],\n",
              "          [0.33058223],\n",
              "          [0.33058223]],\n",
              "\n",
              "         ...,\n",
              "\n",
              "         [[1.0652094 ],\n",
              "          [1.0652094 ],\n",
              "          [1.0652094 ],\n",
              "          ...,\n",
              "          [0.14692543],\n",
              "          [0.11019408],\n",
              "          [0.07346272]],\n",
              "\n",
              "         [[1.0652094 ],\n",
              "          [1.0652094 ],\n",
              "          [1.0652094 ],\n",
              "          ...,\n",
              "          [0.07346272],\n",
              "          [0.07346272],\n",
              "          [0.07346272]],\n",
              "\n",
              "         [[1.028478  ],\n",
              "          [1.028478  ],\n",
              "          [1.028478  ],\n",
              "          ...,\n",
              "          [0.07346272],\n",
              "          [0.07346272],\n",
              "          [0.03673136]]],\n",
              "\n",
              "\n",
              "        [[[1.4692544 ],\n",
              "          [1.3957916 ],\n",
              "          [1.432523  ],\n",
              "          ...,\n",
              "          [0.40404496],\n",
              "          [0.3673136 ],\n",
              "          [0.3673136 ]],\n",
              "\n",
              "         [[1.5427171 ],\n",
              "          [1.5059857 ],\n",
              "          [1.432523  ],\n",
              "          ...,\n",
              "          [0.40404496],\n",
              "          [0.3673136 ],\n",
              "          [0.3673136 ]],\n",
              "\n",
              "         [[1.432523  ],\n",
              "          [1.3957916 ],\n",
              "          [1.432523  ],\n",
              "          ...,\n",
              "          [0.2571195 ],\n",
              "          [0.2571195 ],\n",
              "          [0.2571195 ]],\n",
              "\n",
              "         ...,\n",
              "\n",
              "         [[1.0652094 ],\n",
              "          [1.0652094 ],\n",
              "          [1.0652094 ],\n",
              "          ...,\n",
              "          [0.1836568 ],\n",
              "          [0.14692543],\n",
              "          [0.11019408]],\n",
              "\n",
              "         [[1.0652094 ],\n",
              "          [1.0652094 ],\n",
              "          [1.0652094 ],\n",
              "          ...,\n",
              "          [0.11019408],\n",
              "          [0.11019408],\n",
              "          [0.11019408]],\n",
              "\n",
              "         [[1.0652094 ],\n",
              "          [1.028478  ],\n",
              "          [1.028478  ],\n",
              "          ...,\n",
              "          [0.11019408],\n",
              "          [0.11019408],\n",
              "          [0.07346272]]]],\n",
              "\n",
              "\n",
              "\n",
              "       [[[[1.3178471 ],\n",
              "          [1.2015665 ],\n",
              "          [0.736444  ],\n",
              "          ...,\n",
              "          [0.27132148],\n",
              "          [0.19380105],\n",
              "          [0.19380105]],\n",
              "\n",
              "         [[1.3953675 ],\n",
              "          [1.1628063 ],\n",
              "          [0.8527246 ],\n",
              "          ...,\n",
              "          [0.27132148],\n",
              "          [0.19380105],\n",
              "          [0.19380105]],\n",
              "\n",
              "         [[1.472888  ],\n",
              "          [1.472888  ],\n",
              "          [1.2403268 ],\n",
              "          ...,\n",
              "          [0.3100817 ],\n",
              "          [0.23256126],\n",
              "          [0.23256126]],\n",
              "\n",
              "         ...,\n",
              "\n",
              "         [[1.1240461 ],\n",
              "          [1.0852859 ],\n",
              "          [1.0852859 ],\n",
              "          ...,\n",
              "          [0.        ],\n",
              "          [0.        ],\n",
              "          [0.        ]],\n",
              "\n",
              "         [[1.0852859 ],\n",
              "          [1.0852859 ],\n",
              "          [1.0465257 ],\n",
              "          ...,\n",
              "          [9.883854  ],\n",
              "          [9.883854  ],\n",
              "          [9.883854  ]],\n",
              "\n",
              "         [[1.0852859 ],\n",
              "          [1.0852859 ],\n",
              "          [1.0465257 ],\n",
              "          ...,\n",
              "          [9.883854  ],\n",
              "          [9.883854  ],\n",
              "          [9.883854  ]]],\n",
              "\n",
              "\n",
              "        [[[1.3953675 ],\n",
              "          [1.279087  ],\n",
              "          [0.9690052 ],\n",
              "          ...,\n",
              "          [0.19380105],\n",
              "          [0.19380105],\n",
              "          [0.15504085]],\n",
              "\n",
              "         [[1.3953675 ],\n",
              "          [1.3178471 ],\n",
              "          [1.0077654 ],\n",
              "          ...,\n",
              "          [0.19380105],\n",
              "          [0.19380105],\n",
              "          [0.15504085]],\n",
              "\n",
              "         [[1.472888  ],\n",
              "          [1.472888  ],\n",
              "          [1.279087  ],\n",
              "          ...,\n",
              "          [0.23256126],\n",
              "          [0.19380105],\n",
              "          [0.19380105]],\n",
              "\n",
              "         ...,\n",
              "\n",
              "         [[1.0852859 ],\n",
              "          [1.0465257 ],\n",
              "          [1.0465257 ],\n",
              "          ...,\n",
              "          [0.03876021],\n",
              "          [0.        ],\n",
              "          [0.        ]],\n",
              "\n",
              "         [[1.0465257 ],\n",
              "          [1.0465257 ],\n",
              "          [1.0465257 ],\n",
              "          ...,\n",
              "          [0.        ],\n",
              "          [9.883854  ],\n",
              "          [9.883854  ]],\n",
              "\n",
              "         [[1.0465257 ],\n",
              "          [1.0465257 ],\n",
              "          [1.0465257 ],\n",
              "          ...,\n",
              "          [0.        ],\n",
              "          [9.883854  ],\n",
              "          [9.883854  ]]],\n",
              "\n",
              "\n",
              "        [[[1.3178471 ],\n",
              "          [1.3178471 ],\n",
              "          [0.9690052 ],\n",
              "          ...,\n",
              "          [0.19380105],\n",
              "          [0.19380105],\n",
              "          [0.15504085]],\n",
              "\n",
              "         [[1.3953675 ],\n",
              "          [1.3178471 ],\n",
              "          [1.1240461 ],\n",
              "          ...,\n",
              "          [0.19380105],\n",
              "          [0.19380105],\n",
              "          [0.15504085]],\n",
              "\n",
              "         [[1.472888  ],\n",
              "          [1.472888  ],\n",
              "          [1.279087  ],\n",
              "          ...,\n",
              "          [0.23256126],\n",
              "          [0.23256126],\n",
              "          [0.19380105]],\n",
              "\n",
              "         ...,\n",
              "\n",
              "         [[1.0852859 ],\n",
              "          [1.0465257 ],\n",
              "          [1.0465257 ],\n",
              "          ...,\n",
              "          [0.        ],\n",
              "          [0.        ],\n",
              "          [0.        ]],\n",
              "\n",
              "         [[1.0465257 ],\n",
              "          [1.0465257 ],\n",
              "          [1.0465257 ],\n",
              "          ...,\n",
              "          [0.        ],\n",
              "          [9.883854  ],\n",
              "          [9.883854  ]],\n",
              "\n",
              "         [[1.0465257 ],\n",
              "          [1.0465257 ],\n",
              "          [1.0465257 ],\n",
              "          ...,\n",
              "          [0.        ],\n",
              "          [9.883854  ],\n",
              "          [9.883854  ]]],\n",
              "\n",
              "\n",
              "        ...,\n",
              "\n",
              "\n",
              "        [[[1.3953675 ],\n",
              "          [1.3178471 ],\n",
              "          [1.0852859 ],\n",
              "          ...,\n",
              "          [0.15504085],\n",
              "          [0.15504085],\n",
              "          [0.15504085]],\n",
              "\n",
              "         [[1.3178471 ],\n",
              "          [1.3178471 ],\n",
              "          [1.0465257 ],\n",
              "          ...,\n",
              "          [0.15504085],\n",
              "          [0.15504085],\n",
              "          [0.15504085]],\n",
              "\n",
              "         [[1.3566073 ],\n",
              "          [1.3178471 ],\n",
              "          [1.3178471 ],\n",
              "          ...,\n",
              "          [0.19380105],\n",
              "          [0.19380105],\n",
              "          [0.15504085]],\n",
              "\n",
              "         ...,\n",
              "\n",
              "         [[1.0077654 ],\n",
              "          [1.0077654 ],\n",
              "          [1.0077654 ],\n",
              "          ...,\n",
              "          [0.        ],\n",
              "          [0.        ],\n",
              "          [0.        ]],\n",
              "\n",
              "         [[1.0077654 ],\n",
              "          [1.0077654 ],\n",
              "          [1.0077654 ],\n",
              "          ...,\n",
              "          [0.        ],\n",
              "          [9.883854  ],\n",
              "          [9.845094  ]],\n",
              "\n",
              "         [[1.0077654 ],\n",
              "          [1.0077654 ],\n",
              "          [0.9690052 ],\n",
              "          ...,\n",
              "          [0.        ],\n",
              "          [9.845094  ],\n",
              "          [9.845094  ]]],\n",
              "\n",
              "\n",
              "        [[[1.4341278 ],\n",
              "          [1.4341278 ],\n",
              "          [1.1240461 ],\n",
              "          ...,\n",
              "          [0.15504085],\n",
              "          [0.15504085],\n",
              "          [0.15504085]],\n",
              "\n",
              "         [[1.4341278 ],\n",
              "          [1.3178471 ],\n",
              "          [1.0465257 ],\n",
              "          ...,\n",
              "          [0.15504085],\n",
              "          [0.15504085],\n",
              "          [0.15504085]],\n",
              "\n",
              "         [[1.4341278 ],\n",
              "          [1.3953675 ],\n",
              "          [1.3178471 ],\n",
              "          ...,\n",
              "          [0.15504085],\n",
              "          [0.15504085],\n",
              "          [0.15504085]],\n",
              "\n",
              "         ...,\n",
              "\n",
              "         [[1.0465257 ],\n",
              "          [1.0465257 ],\n",
              "          [1.0465257 ],\n",
              "          ...,\n",
              "          [0.        ],\n",
              "          [0.        ],\n",
              "          [0.        ]],\n",
              "\n",
              "         [[1.0465257 ],\n",
              "          [1.0465257 ],\n",
              "          [1.0465257 ],\n",
              "          ...,\n",
              "          [0.        ],\n",
              "          [9.883854  ],\n",
              "          [9.845094  ]],\n",
              "\n",
              "         [[1.0465257 ],\n",
              "          [1.0465257 ],\n",
              "          [1.0077654 ],\n",
              "          ...,\n",
              "          [0.        ],\n",
              "          [9.845094  ],\n",
              "          [9.845094  ]]],\n",
              "\n",
              "\n",
              "        [[[1.472888  ],\n",
              "          [1.3178471 ],\n",
              "          [1.2403268 ],\n",
              "          ...,\n",
              "          [0.15504085],\n",
              "          [0.15504085],\n",
              "          [0.15504085]],\n",
              "\n",
              "         [[1.3178471 ],\n",
              "          [1.279087  ],\n",
              "          [1.0077654 ],\n",
              "          ...,\n",
              "          [0.15504085],\n",
              "          [0.15504085],\n",
              "          [0.15504085]],\n",
              "\n",
              "         [[1.4341278 ],\n",
              "          [1.3953675 ],\n",
              "          [1.3178471 ],\n",
              "          ...,\n",
              "          [0.19380105],\n",
              "          [0.19380105],\n",
              "          [0.19380105]],\n",
              "\n",
              "         ...,\n",
              "\n",
              "         [[1.0852859 ],\n",
              "          [1.0465257 ],\n",
              "          [1.0465257 ],\n",
              "          ...,\n",
              "          [9.883854  ],\n",
              "          [9.845094  ],\n",
              "          [9.845094  ]],\n",
              "\n",
              "         [[1.0852859 ],\n",
              "          [1.0465257 ],\n",
              "          [1.0465257 ],\n",
              "          ...,\n",
              "          [9.845094  ],\n",
              "          [9.845094  ],\n",
              "          [9.845094  ]],\n",
              "\n",
              "         [[1.0852859 ],\n",
              "          [1.0465257 ],\n",
              "          [1.0465257 ],\n",
              "          ...,\n",
              "          [9.845094  ],\n",
              "          [9.845094  ],\n",
              "          [9.845094  ]]]]], dtype=float32)"
            ]
          },
          "execution_count": 16,
          "metadata": {},
          "output_type": "execute_result"
        }
      ],
      "source": [
        "test = data.as_numpy_iterator()\n",
        "val = test.next(); val[0]"
      ]
    },
    {
      "cell_type": "code",
      "execution_count": 17,
      "metadata": {},
      "outputs": [
        {
          "data": {
            "text/plain": [
              "<matplotlib.image.AxesImage at 0x290b672e580>"
            ]
          },
          "execution_count": 17,
          "metadata": {},
          "output_type": "execute_result"
        },
        {
          "data": {
            "image/png": "[encoded data removed]",
            "text/plain": [
              "<Figure size 640x480 with 1 Axes>"
            ]
          },
          "metadata": {},
          "output_type": "display_data"
        }
      ],
      "source": [
        "plt.imshow(val[0][0][0])"
      ]
    },
    {
      "cell_type": "code",
      "execution_count": 18,
      "metadata": {},
      "outputs": [
        {
          "data": {
            "text/plain": [
              "<tf.Tensor: shape=(), dtype=string, numpy=b'place white with e zero now'>"
            ]
          },
          "execution_count": 18,
          "metadata": {},
          "output_type": "execute_result"
        }
      ],
      "source": [
        "tf.strings.reduce_join([num_to_char(word) for word in val[1][0]])"
      ]
    },
    {
      "attachments": {},
      "cell_type": "markdown",
      "metadata": {},
      "source": [
        "# 3. Deep Neural Network"
      ]
    },
    {
      "cell_type": "code",
      "execution_count": 19,
      "metadata": {},
      "outputs": [],
      "source": [
        "from tensorflow.keras.models import Sequential\n",
        "from tensorflow.keras.layers import Conv3D, LSTM, Dense, Dropout, Bidirectional, MaxPool3D, Activation, Reshape, SpatialDropout3D, BatchNormalization, TimeDistributed, Flatten\n",
        "from tensorflow.keras.optimizers import Adam\n",
        "from tensorflow.keras.callbacks import ModelCheckpoint, LearningRateScheduler"
      ]
    },
    {
      "cell_type": "code",
      "execution_count": 20,
      "metadata": {},
      "outputs": [],
      "source": [
        "model = Sequential()\n",
        "model.add(Conv3D(128, 3, input_shape=(75,46,140,1), padding='same'))\n",
        "model.add(Activation('relu'))\n",
        "model.add(MaxPool3D((1,2,2)))\n",
        "\n",
        "model.add(Conv3D(256, 3, padding='same'))\n",
        "model.add(Activation('relu'))\n",
        "model.add(MaxPool3D((1,2,2)))\n",
        "\n",
        "model.add(Conv3D(75, 3, padding='same'))\n",
        "model.add(Activation('relu'))\n",
        "model.add(MaxPool3D((1,2,2)))\n",
        "\n",
        "model.add(TimeDistributed(Flatten()))\n",
        "\n",
        "model.add(Bidirectional(LSTM(128, kernel_initializer='Orthogonal', return_sequences=True)))\n",
        "model.add(Dropout(.5))\n",
        "\n",
        "model.add(Bidirectional(LSTM(128, kernel_initializer='Orthogonal', return_sequences=True)))\n",
        "model.add(Dropout(.5))\n",
        "\n",
        "model.add(Dense(char_to_num.vocabulary_size()+1, kernel_initializer='he_normal', activation='softmax'))"
      ]
    },
    {
      "cell_type": "code",
      "execution_count": 21,
      "metadata": {},
      "outputs": [
        {
          "name": "stdout",
          "output_type": "stream",
          "text": [
            "Model: \"sequential\"\n",
            "_________________________________________________________________\n",
            " Layer (type)                Output Shape              Param #   \n",
            "=================================================================\n",
            " conv3d (Conv3D)             (None, 75, 46, 140, 128)  3584      \n",
            "                                                                 \n",
            " activation (Activation)     (None, 75, 46, 140, 128)  0         \n",
            "                                                                 \n",
            " max_pooling3d (MaxPooling3D  (None, 75, 23, 70, 128)  0         \n",
            " )                                                               \n",
            "                                                                 \n",
            " conv3d_1 (Conv3D)           (None, 75, 23, 70, 256)   884992    \n",
            "                                                                 \n",
            " activation_1 (Activation)   (None, 75, 23, 70, 256)   0         \n",
            "                                                                 \n",
            " max_pooling3d_1 (MaxPooling  (None, 75, 11, 35, 256)  0         \n",
            " 3D)                                                             \n",
            "                                                                 \n",
            " conv3d_2 (Conv3D)           (None, 75, 11, 35, 75)    518475    \n",
            "                                                                 \n",
            " activation_2 (Activation)   (None, 75, 11, 35, 75)    0         \n",
            "                                                                 \n",
            " max_pooling3d_2 (MaxPooling  (None, 75, 5, 17, 75)    0         \n",
            " 3D)                                                             \n",
            "                                                                 \n",
            " time_distributed (TimeDistr  (None, 75, 6375)         0         \n",
            " ibuted)                                                         \n",
            "                                                                 \n",
            " bidirectional (Bidirectiona  (None, 75, 256)          6660096   \n",
            " l)                                                              \n",
            "                                                                 \n",
            " dropout (Dropout)           (None, 75, 256)           0         \n",
            "                                                                 \n",
            " bidirectional_1 (Bidirectio  (None, 75, 256)          394240    \n",
            " nal)                                                            \n",
            "                                                                 \n",
            " dropout_1 (Dropout)         (None, 75, 256)           0         \n",
            "                                                                 \n",
            " dense (Dense)               (None, 75, 41)            10537     \n",
            "                                                                 \n",
            "=================================================================\n",
            "Total params: 8,471,924\n",
            "Trainable params: 8,471,924\n",
            "Non-trainable params: 0\n",
            "_________________________________________________________________\n"
          ]
        }
      ],
      "source": [
        "model.summary()"
      ]
    },
    {
      "cell_type": "code",
      "execution_count": 22,
      "metadata": {},
      "outputs": [
        {
          "name": "stdout",
          "output_type": "stream",
          "text": [
            "1/1 [==============================] - 30s 30s/step\n"
          ]
        }
      ],
      "source": [
        "yhat = model.predict(val[0])"
      ]
    },
    {
      "cell_type": "code",
      "execution_count": 24,
      "metadata": {},
      "outputs": [
        {
          "data": {
            "text/plain": [
              "<tf.Tensor: shape=(), dtype=string, numpy=b'    !!!!!!!!!77!777!7777777777777777777777777777777777777777777777777777777'>"
            ]
          },
          "execution_count": 24,
          "metadata": {},
          "output_type": "execute_result"
        }
      ],
      "source": [
        "tf.strings.reduce_join([num_to_char(tf.argmax(x)) for x in yhat[0]])"
      ]
    },
    {
      "attachments": {},
      "cell_type": "markdown",
      "metadata": {},
      "source": [
        "# 4. Train The Model"
      ]
    },
    {
      "cell_type": "code",
      "execution_count": 25,
      "metadata": {},
      "outputs": [],
      "source": [
        "def scheduler(epoch, lr):\n",
        "    if epoch<30:\n",
        "        return lr\n",
        "    else:\n",
        "        return lr * tf.math.exp(-0.1)"
      ]
    },
    {
      "cell_type": "code",
      "execution_count": 26,
      "metadata": {},
      "outputs": [],
      "source": [
        "def CTCLoss(y_true, y_pred):\n",
        "    batch_len = tf.cast(tf.shape(y_true)[0], dtype='int64')\n",
        "    input_length = tf.cast(tf.shape(y_pred)[1], dtype='int64')\n",
        "    label_length = tf.cast(tf.shape(y_true)[1], dtype='int64')\n",
        "\n",
        "    input_length = input_length * tf.ones(shape=(batch_len, 1), dtype='int64')\n",
        "    label_length = label_length * tf.ones(shape=(batch_len, 1), dtype='int64')\n",
        "\n",
        "    loss = tf.keras.backend.ctc_batch_cost(y_true, y_pred, input_length, label_length)\n",
        "    return loss"
      ]
    },
    {
      "cell_type": "code",
      "execution_count": 38,
      "metadata": {},
      "outputs": [],
      "source": [
        "class ProduceExample(tf.keras.callbacks.Callback): \n",
        "    def __init__(self, dataset) -> None: \n",
        "        self.dataset = iter(dataset)\n",
        "    \n",
        "    def on_epoch_end(self, epoch, logs=None) -> None:\n",
        "        data = self.dataset.next()\n",
        "        yhat = self.model.predict(data[0])\n",
        "        decoded = tf.keras.backend.ctc_decode(yhat, [75,75], greedy=False)[0][0].numpy()\n",
        "        for x in range(len(yhat)):           \n",
        "            print('Original:', tf.strings.reduce_join(num_to_char(data[1][x])).numpy().decode('utf-8'))\n",
        "            print('Prediction:', tf.strings.reduce_join(num_to_char(decoded[x])).numpy().decode('utf-8'))\n",
        "            print('~'*100)"
      ]
    },
    {
      "cell_type": "code",
      "execution_count": 39,
      "metadata": {},
      "outputs": [],
      "source": [
        "model.compile(optimizer=Adam(learning_rate=0.0001), loss=CTCLoss)"
      ]
    },
    {
      "cell_type": "code",
      "execution_count": 40,
      "metadata": {},
      "outputs": [],
      "source": [
        "checkpoint_callback = ModelCheckpoint(os.path.join('models','checkpoint'), monitor='loss', save_weights_only=True)"
      ]
    },
    {
      "cell_type": "code",
      "execution_count": 41,
      "metadata": {},
      "outputs": [],
      "source": [
        "schedule_callback = LearningRateScheduler(scheduler)"
      ]
    },
    {
      "cell_type": "code",
      "execution_count": 43,
      "metadata": {},
      "outputs": [],
      "source": [
        "example_callback = ProduceExample(data)"
      ]
    },
    {
      "cell_type": "code",
      "execution_count": null,
      "metadata": {},
      "outputs": [],
      "source": [
        "model.fit(data, epochs=10, callbacks=[checkpoint_callback, schedule_callback, example_callback])"
      ]
    }
  ],
  "metadata": {
    "accelerator": "GPU",
    "colab": {
      "provenance": []
    },
    "gpuClass": "standard",
    "kernelspec": {
      "display_name": "Python 3",
      "name": "python3"
    },
    "language_info": {
      "codemirror_mode": {
        "name": "ipython",
        "version": 3
      },
      "file_extension": ".py",
      "mimetype": "text/x-python",
      "name": "python",
      "nbconvert_exporter": "python",
      "pygments_lexer": "ipython3",
      "version": "3.9.9"
    }
  },
  "nbformat": 4,
  "nbformat_minor": 0
}
