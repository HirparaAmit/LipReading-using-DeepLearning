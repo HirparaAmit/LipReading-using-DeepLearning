{
  "nbformat": 4,
  "nbformat_minor": 0,
  "metadata": {
    "colab": {
      "provenance": []
    },
    "kernelspec": {
      "name": "python3",
      "display_name": "Python 3"
    },
    "language_info": {
      "name": "python"
    },
    "accelerator": "GPU",
    "gpuClass": "standard"
  },
  "cells": [
    {
      "cell_type": "markdown",
      "source": [
        "# 0. Install and Import Dependencies"
      ],
      "metadata": {
        "id": "pmR7uHl7kj4v"
      }
    },
    {
      "cell_type": "code",
      "execution_count": null,
      "metadata": {
        "id": "1OBqoUgykSNa"
      },
      "outputs": [],
      "source": [
        "! pip install opencv-python matplotlib tensorflow imageio gdown "
      ]
    },
    {
      "cell_type": "code",
      "source": [
        "import os\n",
        "import cv2\n",
        "import tensorflow as tf\n",
        "import numpy as np\n",
        "from typing import List\n",
        "from matplotlib import pyplot as plt\n",
        "import imageio"
      ],
      "metadata": {
        "id": "po8LSKn2k9P0"
      },
      "execution_count": 2,
      "outputs": []
    },
    {
      "cell_type": "code",
      "source": [
        "physical_devices = tf.config.list_physical_devices('GPU')\n",
        "try:\n",
        "  tf.config.experimental.set_memory_growth(physical_devices[0], True)\n",
        "except:\n",
        "  pass"
      ],
      "metadata": {
        "id": "JKeeWBSLlPLQ"
      },
      "execution_count": 5,
      "outputs": []
    },
    {
      "cell_type": "markdown",
      "source": [
        "# 1. Data Loading Functions"
      ],
      "metadata": {
        "id": "bcDTswCrmwR9"
      }
    },
    {
      "cell_type": "code",
      "source": [],
      "metadata": {
        "id": "Ni9ot0_YmzCm"
      },
      "execution_count": null,
      "outputs": []
    }
  ]
}